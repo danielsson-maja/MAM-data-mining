{
 "cells": [
  {
   "cell_type": "code",
   "execution_count": 35,
   "source": [
    "import pandas as pd\r\n",
    "import os\r\n",
    "import mplcursors\r\n",
    "import pprint\r\n",
    "import numpy as np\r\n",
    "import matplotlib.pyplot as plt\r\n"
   ],
   "outputs": [],
   "metadata": {}
  },
  {
   "cell_type": "code",
   "execution_count": 36,
   "source": [
    "df = pd.read_csv(os.path.join(\"data\", \"bt_symmetric.csv\"))"
   ],
   "outputs": [],
   "metadata": {}
  },
  {
   "cell_type": "code",
   "execution_count": 37,
   "source": [
    "df = df[df[\"user_b\"] != -1]\r\n",
    "\r\n",
    "time_max = df[\"# timestamp\"].max()\r\n",
    "times = []\r\n",
    "connections = []\r\n",
    "for i in range(0, time_max, 300):\r\n",
    "    df_temp = df[df[\"# timestamp\"] == i]\r\n",
    "    if len(df_temp) > 250:\r\n",
    "        times.append(i)\r\n",
    "        connections.append(len(df_temp))\r\n",
    "    else:\r\n",
    "        times.append(-1)\r\n",
    "        connections.append(-1)\r\n",
    "    "
   ],
   "outputs": [],
   "metadata": {}
  },
  {
   "cell_type": "code",
   "execution_count": 38,
   "source": [
    "users = set(df[\"user_a\"]) | set(df[\"user_b\"])\r\n",
    "connections_counter = dict([[x,[]] for x in users])\r\n",
    "connections_counter_fin = dict([[x,[]] for x in users])\r\n",
    "\r\n",
    "for i in range(0, time_max, 300):\r\n",
    "    if i not in times:\r\n",
    "        continue\r\n",
    "    \r\n",
    "    for key, value in connections_counter.items():\r\n",
    "        connections_counter[key].append(0)\r\n",
    "    \r\n",
    "    if i in times:\r\n",
    "        df_temp = df[df[\"# timestamp\"] == i]\r\n",
    "        for _, row in df_temp.iterrows():\r\n",
    "            connections_counter[row[\"user_a\"]][-1] += 1\r\n",
    "            connections_counter[row[\"user_b\"]][-1] += 1\r\n",
    "\r\n",
    "for key, value in connections_counter.items():\r\n",
    "        connections_counter_fin[key] = np.mean(value)\r\n",
    "\r\n",
    "\r\n",
    "\r\n",
    "                           \r\n",
    "        \r\n",
    "    "
   ],
   "outputs": [],
   "metadata": {}
  },
  {
   "cell_type": "code",
   "execution_count": 48,
   "source": [
    "for key, value in connections_counter.items():\r\n",
    "        connections_counter_fin[key] = np.sum(value)"
   ],
   "outputs": [],
   "metadata": {}
  },
  {
   "cell_type": "code",
   "execution_count": 68,
   "source": [
    "#connections_counter_fin.pop(-2)\r\n",
    "plt.hist(list(connections_counter_fin.values()), bins = 35)\r\n",
    "mean = np.mean(list(connections_counter_fin.values()))\r\n",
    "std = np.std(list(connections_counter_fin.values()))\r\n",
    "#plt.vlines(mean, 0, 50, color= \"red\")\r\n",
    "plt.vlines(mean+std-2700, 0, 50, color= \"red\", linestyles=\"dashed\")\r\n",
    "plt.vlines(mean-std+800, 0, 50, color= \"red\", linestyles=\"dashed\" )\r\n",
    "\r\n",
    "print(mean-std+800, mean+std-2700)\r\n",
    "plt.show() "
   ],
   "outputs": [
    {
     "output_type": "stream",
     "name": "stdout",
     "text": [
      "2925.286495829231 7628.415631830343\n"
     ]
    },
    {
     "output_type": "display_data",
     "data": {
      "image/png": "[encoded data removed]",
      "text/plain": [
       "<Figure size 432x288 with 1 Axes>"
      ]
     },
     "metadata": {
      "needs_background": "light"
     }
    }
   ],
   "metadata": {}
  },
  {
   "cell_type": "code",
   "execution_count": 75,
   "source": [
    "low = []\r\n",
    "med = []\r\n",
    "high = []\r\n",
    "for key in connections_counter_fin.keys():\r\n",
    "    if connections_counter_fin[key] < 2900:\r\n",
    "        low.append(key)\r\n",
    "    elif connections_counter_fin[key] < 7600:\r\n",
    "        med.append(key)\r\n",
    "    else:\r\n",
    "        high.append(key)\r\n",
    "\r\n",
    "print(low,\"\\n\",med,\"\\n\",high)"
   ],
   "outputs": [
    {
     "output_type": "stream",
     "name": "stdout",
     "text": [
      "705\n",
      "705\n"
     ]
    }
   ],
   "metadata": {}
  },
  {
   "cell_type": "code",
   "execution_count": null,
   "source": [],
   "outputs": [],
   "metadata": {}
  }
 ],
 "metadata": {
  "kernelspec": {
   "name": "python3",
   "display_name": "Python 3.7.4 32-bit"
  },
  "language_info": {
   "codemirror_mode": {
    "name": "ipython",
    "version": 3
   },
   "file_extension": ".py",
   "mimetype": "text/x-python",
   "name": "python",
   "nbconvert_exporter": "python",
   "pygments_lexer": "ipython3",
   "version": "3.7.4"
  },
  "interpreter": {
   "hash": "995f811ffe8a8f8509548ff203be6fd7d4fec1f731d64575a6573f41eb896910"
  }
 },
 "nbformat": 4,
 "nbformat_minor": 5
}