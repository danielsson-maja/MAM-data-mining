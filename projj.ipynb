{
 "cells": [
  {
   "cell_type": "code",
   "execution_count": 37,
   "id": "c2071382",
   "metadata": {},
   "outputs": [],
   "source": [
    "import pandas as pd\n",
    "import os\n",
    "import mplcursors\n",
    "import pprint\n",
    "import numpy as np\n",
    "import matplotlib.pyplot as plt\n"
   ]
  },
  {
   "cell_type": "code",
   "execution_count": 38,
   "id": "7f242c79",
   "metadata": {},
   "outputs": [],
   "source": [
    "df = pd.read_csv(os.path.join(\"data\", \"bt_symmetric.csv\"))"
   ]
  },
  {
   "cell_type": "code",
   "execution_count": 39,
   "id": "e51b8af5",
   "metadata": {},
   "outputs": [],
   "source": [
    "df = df[df[\"user_b\"] != -1]\n",
    "\n",
    "time_max = df[\"# timestamp\"].max()\n",
    "times = []\n",
    "connections = []\n",
    "for i in range(0, time_max, 300):\n",
    "    df_temp = df[df[\"# timestamp\"] == i]\n",
    "    if len(df_temp) > 250:\n",
    "        times.append(i)\n",
    "        connections.append(len(df_temp))\n",
    "    else:\n",
    "        times.append(-1)\n",
    "        connections.append(-1)\n",
    "    "
   ]
  },
  {
   "cell_type": "code",
   "execution_count": 40,
   "id": "eae53752",
   "metadata": {},
   "outputs": [],
   "source": [
    "users = set(df[\"user_a\"]) | set(df[\"user_b\"])\n",
    "connections_counter = dict([[x,[]] for x in users])\n",
    "connections_counter_fin = dict([[x,[]] for x in users])\n",
    "\n",
    "for i in range(0, time_max, 300):\n",
    "    if i not in times:\n",
    "        continue\n",
    "    \n",
    "    for key, value in connections_counter.items():\n",
    "        connections_counter[key].append(0)\n",
    "    \n",
    "    if i in times:\n",
    "        df_temp = df[df[\"# timestamp\"] == i]\n",
    "        for _, row in df_temp.iterrows():\n",
    "            connections_counter[row[\"user_a\"]][-1] += 1\n",
    "            connections_counter[row[\"user_b\"]][-1] += 1\n",
    "\n",
    "for key, value in connections_counter.items():\n",
    "        connections_counter_fin[key] = np.mean(value)\n",
    "\n",
    "\n",
    "\n",
    "                           \n",
    "        \n",
    "    "
   ]
  },
  {
   "cell_type": "code",
   "execution_count": 41,
   "id": "57a4710a",
   "metadata": {},
   "outputs": [],
   "source": [
    "for key, value in connections_counter.items():\n",
    "        connections_counter_fin[key] = np.sum(value)"
   ]
  },
  {
   "cell_type": "code",
   "execution_count": 42,
   "id": "e403b93b",
   "metadata": {},
   "outputs": [
    {
     "name": "stdout",
     "output_type": "stream",
     "text": [
      "2925.286495829231 7628.415631830343\n"
     ]
    },
    {
     "data": {
      "image/png": "[encoded data removed]",
      "text/plain": [
       "<Figure size 432x288 with 1 Axes>"
      ]
     },
     "metadata": {
      "needs_background": "light"
     },
     "output_type": "display_data"
    }
   ],
   "source": [
    "connections_counter_fin.pop(-2)\n",
    "plt.hist(list(connections_counter_fin.values()), bins = 35)\n",
    "mean = np.mean(list(connections_counter_fin.values()))\n",
    "std = np.std(list(connections_counter_fin.values()))\n",
    "#plt.vlines(mean, 0, 50, color= \"red\")\n",
    "plt.vlines(mean+std-2700, 0, 50, color= \"red\", linestyles=\"dashed\")\n",
    "plt.vlines(mean-std+800, 0, 50, color= \"red\", linestyles=\"dashed\" )\n",
    "\n",
    "print(mean-std+800, mean+std-2700)\n",
    "plt.show() "
   ]
  },
  {
   "cell_type": "code",
   "execution_count": 43,
   "id": "cb5f49a7",
   "metadata": {},
   "outputs": [
    {
     "name": "stdout",
     "output_type": "stream",
     "text": [
      "[2, 7, 9, 21, 24, 26, 28, 33, 40, 43, 45, 59, 60, 66, 68, 71, 77, 82, 86, 89, 103, 110, 117, 124, 125, 126, 131, 135, 141, 143, 150, 160, 161, 171, 184, 202, 212, 213, 214, 219, 226, 234, 241, 245, 255, 256, 258, 270, 293, 298, 312, 313, 316, 320, 329, 332, 337, 340, 346, 347, 362, 370, 377, 381, 385, 387, 392, 393, 398, 400, 410, 417, 420, 426, 440, 442, 445, 446, 447, 451, 454, 456, 460, 463, 464, 471, 477, 495, 496, 497, 500, 510, 511, 516, 517, 526, 533, 548, 562, 565, 566, 570, 573, 574, 577, 579, 590, 592, 594, 601, 602, 603, 604, 605, 606, 618, 620, 622, 624, 625, 626, 628, 629, 631, 635, 638, 639, 641, 642, 647, 652, 653, 654, 660, 669, 670, 674, 675, 679, 680, 681, 690, 692, 694, 695, 696, 697, 698, 699, 703, 704, 705, 707, 709, 710, 711, 732, 812, 845] \n",
      " [1, 3, 4, 8, 10, 11, 16, 17, 18, 19, 20, 23, 27, 30, 31, 32, 35, 36, 37, 38, 39, 46, 47, 51, 53, 55, 56, 62, 63, 67, 70, 73, 74, 75, 76, 80, 83, 84, 85, 87, 91, 93, 96, 98, 101, 102, 104, 106, 107, 108, 109, 111, 112, 113, 115, 116, 121, 123, 127, 128, 129, 133, 138, 145, 146, 147, 153, 165, 168, 169, 179, 182, 185, 186, 187, 189, 191, 192, 193, 194, 199, 200, 203, 204, 206, 210, 211, 216, 217, 218, 220, 223, 227, 228, 229, 230, 233, 236, 240, 247, 248, 250, 251, 252, 253, 257, 259, 261, 265, 266, 269, 271, 273, 275, 277, 281, 284, 285, 286, 288, 290, 294, 295, 296, 297, 299, 300, 302, 303, 304, 307, 310, 314, 315, 317, 318, 319, 321, 322, 323, 326, 327, 328, 335, 341, 342, 343, 345, 348, 350, 351, 352, 354, 355, 356, 357, 360, 361, 364, 365, 366, 367, 369, 374, 375, 379, 380, 382, 384, 389, 390, 391, 395, 396, 402, 404, 406, 409, 411, 413, 414, 418, 419, 421, 428, 429, 430, 431, 432, 433, 434, 435, 437, 443, 444, 450, 452, 453, 457, 458, 459, 462, 466, 468, 469, 472, 473, 474, 475, 478, 479, 480, 481, 482, 484, 486, 487, 488, 489, 490, 492, 498, 499, 501, 502, 503, 504, 508, 513, 515, 518, 521, 523, 525, 527, 529, 530, 531, 532, 534, 536, 537, 539, 540, 541, 542, 544, 546, 549, 550, 551, 552, 554, 557, 558, 561, 563, 571, 572, 575, 576, 578, 582, 583, 584, 586, 587, 588, 589, 591, 593, 595, 596, 597, 599, 600, 607, 608, 609, 611, 612, 613, 614, 616, 619, 621, 623, 630, 633, 636, 637, 645, 646, 648, 649, 650, 651, 655, 656, 658, 664, 667, 671, 672, 673, 677, 678, 683, 684, 685, 687, 689, 691, 700] \n",
      " [0, 5, 6, 12, 13, 14, 15, 22, 25, 29, 34, 41, 42, 44, 48, 49, 50, 52, 54, 57, 58, 61, 64, 65, 69, 72, 78, 79, 81, 88, 90, 92, 94, 95, 97, 99, 100, 105, 114, 118, 119, 120, 122, 130, 132, 136, 137, 139, 140, 144, 148, 149, 151, 152, 154, 155, 156, 157, 158, 159, 163, 164, 166, 167, 170, 172, 173, 174, 175, 176, 177, 178, 180, 181, 183, 188, 190, 195, 196, 197, 198, 201, 205, 207, 208, 209, 215, 221, 222, 224, 225, 231, 232, 235, 237, 238, 239, 242, 243, 244, 246, 249, 254, 260, 262, 263, 264, 267, 268, 272, 274, 276, 278, 279, 280, 282, 283, 287, 289, 291, 292, 301, 306, 308, 309, 311, 324, 325, 330, 331, 334, 336, 338, 339, 344, 349, 353, 358, 359, 363, 368, 371, 372, 373, 376, 378, 383, 386, 388, 394, 397, 399, 401, 403, 405, 407, 408, 412, 415, 416, 422, 423, 424, 425, 427, 436, 438, 439, 441, 448, 449, 455, 461, 465, 467, 470, 476, 483, 485, 491, 493, 494, 505, 506, 507, 509, 512, 514, 519, 520, 522, 524, 528, 535, 538, 543, 545, 547, 553, 555, 556, 559, 560, 567, 568, 569, 580, 585, 598, 610, 615, 617, 627, 632, 634, 640, 643, 644, 657, 659, 661, 662, 663, 665, 666, 668, 676, 682, 686, 688, 701, 702]\n"
     ]
    }
   ],
   "source": [
    "low = []\n",
    "med = []\n",
    "high = []\n",
    "for key in connections_counter_fin.keys():\n",
    "    if connections_counter_fin[key] < 2900:\n",
    "        low.append(key)\n",
    "    elif connections_counter_fin[key] < 7600:\n",
    "        med.append(key)\n",
    "    else:\n",
    "        high.append(key)\n",
    "\n",
    "print(low,\"\\n\",med,\"\\n\",high)"
   ]
  },
  {
   "cell_type": "code",
   "execution_count": 61,
   "id": "509b7cba",
   "metadata": {},
   "outputs": [],
   "source": [
    "data_low = {\"user\": low, \"label\": 0}\n",
    "data_med = {\"user\": med, \"label\": 1}\n",
    "data_high = {\"user\": high, \"label\": 2}\n",
    "\n",
    "df_low = pd.DataFrame(data_low)\n",
    "df_med = pd.DataFrame(data_med)\n",
    "df_high = pd.DataFrame(data_high)\n",
    "\n",
    "df_labels = pd.concat([df_low, df_med, df_high], axis=0) \n",
    "df_labels = df_labels.set_index(\"user\")\n",
    "\n",
    "df_labels = df_labels.sort_index()\n",
    "df_labels.head(100)\n",
    "\n",
    "df_labels.to_csv(\"labels.csv\")"
   ]
  },
  {
   "cell_type": "code",
   "execution_count": null,
   "id": "530a80da",
   "metadata": {},
   "outputs": [],
   "source": []
  }
 ],
 "metadata": {
  "interpreter": {
   "hash": "995f811ffe8a8f8509548ff203be6fd7d4fec1f731d64575a6573f41eb896910"
  },
  "kernelspec": {
   "display_name": "Python 3",
   "language": "python",
   "name": "python3"
  },
  "language_info": {
   "codemirror_mode": {
    "name": "ipython",
    "version": 3
   },
   "file_extension": ".py",
   "mimetype": "text/x-python",
   "name": "python",
   "nbconvert_exporter": "python",
   "pygments_lexer": "ipython3",
   "version": "3.8.8"
  }
 },
 "nbformat": 4,
 "nbformat_minor": 5
}
